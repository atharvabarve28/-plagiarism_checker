{
 "cells": [
  {
   "cell_type": "code",
   "execution_count": 12,
   "id": "984a9c2c-869d-4be4-aa76-a51e0bfd9bc2",
   "metadata": {},
   "outputs": [
    {
     "name": "stderr",
     "output_type": "stream",
     "text": [
      "[nltk_data] Downloading package punkt to\n",
      "[nltk_data]     C:\\Users\\athar\\AppData\\Roaming\\nltk_data...\n",
      "[nltk_data]   Package punkt is already up-to-date!\n",
      "[nltk_data] Downloading package stopwords to\n",
      "[nltk_data]     C:\\Users\\athar\\AppData\\Roaming\\nltk_data...\n",
      "[nltk_data]   Package stopwords is already up-to-date!\n"
     ]
    },
    {
     "name": "stdin",
     "output_type": "stream",
     "text": [
      "Enter your text:   plagiarism_checker\n",
      "Enter reference text for comparison:   plagiarism_checker = PlagiarismChecker()\n"
     ]
    },
    {
     "name": "stdout",
     "output_type": "stream",
     "text": [
      "Plagiarism between Context: 0.00%\n"
     ]
    }
   ],
   "source": [
    "import nltk\n",
    "from nltk.corpus import stopwords\n",
    "from nltk.tokenize import word_tokenize\n",
    "from sklearn.feature_extraction.text import TfidfVectorizer\n",
    "from sklearn.metrics.pairwise import cosine_similarity\n",
    "\n",
    "nltk.download('punkt')\n",
    "nltk.download('stopwords')\n",
    "\n",
    "class PlagiarismChecker:\n",
    "    def __init__(self):\n",
    "        self.stop_words = set(stopwords.words('english'))\n",
    "        self.vectorizer = TfidfVectorizer()\n",
    "\n",
    "    def preprocess_text(self, text):\n",
    "        words = word_tokenize(text.lower())\n",
    "        words = [word for word in words if word.isalnum() and word not in self.stop_words]\n",
    "        return ' '.join(words)\n",
    "\n",
    "    def calculate_similarity(self, user_text, reference_text):\n",
    "        user_text = self.preprocess_text(user_text)\n",
    "        reference_text = self.preprocess_text(reference_text)\n",
    "        \n",
    "        tfidf_matrix = self.vectorizer.fit_transform([user_text, reference_text])\n",
    "        cosine_similarities = cosine_similarity(tfidf_matrix[0], tfidf_matrix[1])\n",
    "        similarity_percentage = cosine_similarities[0][0] * 100\n",
    "        \n",
    "        return similarity_percentage\n",
    "\n",
    "def main():\n",
    "    plagiarism_checker = PlagiarismChecker()\n",
    "    \n",
    "    user_text = input(\"Enter your text: \")\n",
    "    reference_text = input(\"Enter reference text for comparison: \")\n",
    "\n",
    "    similarity_percentage = plagiarism_checker.calculate_similarity(user_text, reference_text)\n",
    "\n",
    "    print(f\"Plagiarism between Context: {similarity_percentage:.2f}%\")\n",
    "\n",
    "if __name__ == \"__main__\":\n",
    "    main()"
   ]
  },
  {
   "cell_type": "code",
   "execution_count": null,
   "id": "2d7fc9b2-1c20-4056-99a6-b9963754555d",
   "metadata": {},
   "outputs": [],
   "source": []
  }
 ],
 "metadata": {
  "kernelspec": {
   "display_name": "Python 3 (ipykernel)",
   "language": "python",
   "name": "python3"
  },
  "language_info": {
   "codemirror_mode": {
    "name": "ipython",
    "version": 3
   },
   "file_extension": ".py",
   "mimetype": "text/x-python",
   "name": "python",
   "nbconvert_exporter": "python",
   "pygments_lexer": "ipython3",
   "version": "3.12.0"
  }
 },
 "nbformat": 4,
 "nbformat_minor": 5
}
